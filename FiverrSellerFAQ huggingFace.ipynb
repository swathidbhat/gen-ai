{
 "cells": [
  {
   "cell_type": "code",
   "execution_count": 1,
   "metadata": {},
   "outputs": [],
   "source": [
    "#Step 1: Load Hugging Face QA model \n",
    "from transformers import pipeline\n",
    "\n",
    "qa_pipeline = pipeline('question-answering', model='distilbert-base-cased-distilled-squad', tokenizer='distilbert-base-cased-distilled-squad')"
   ]
  },
  {
   "cell_type": "code",
   "execution_count": 2,
   "metadata": {},
   "outputs": [],
   "source": [
    "# !pip install urllib3==1.26 --user\n",
    "# !pip install requests --upgrade --user\n",
    "# !pip install selenium --user\n",
    "import time\n",
    "import requests\n",
    "from bs4 import BeautifulSoup"
   ]
  },
  {
   "cell_type": "code",
   "execution_count": 3,
   "metadata": {},
   "outputs": [],
   "source": [
    "#Step 2: Retrieve and pre-process FAQs from URL \n",
    "from selenium import webdriver\n",
    "\n",
    "browser = webdriver.Chrome()  \n",
    "browser.get(\"https://help.fiverr.com/hc/en-us/articles/360011421198-FAQs-for-sellers\")\n",
    "\n",
    "# Wait for the page to load, you can introduce more sophisticated waits here\n",
    "time.sleep(5)\n",
    "\n",
    "faq_content = browser.page_source\n",
    "\n",
    "soup = BeautifulSoup(faq_content, 'html.parser')\n",
    "faq_paragraphs = soup.find_all('p') \n",
    "faqs_unstructured = ' '.join(paragraph.get_text() for paragraph in faq_paragraphs)\n",
    "\n",
    "browser.quit()"
   ]
  },
  {
   "cell_type": "code",
   "execution_count": 4,
   "metadata": {},
   "outputs": [
    {
     "name": "stdout",
     "output_type": "stream",
     "text": [
      "Find all the answers you need for some of the frequently asked questions for Fiverr Sellers.   Account managementGeneral/miscellaneousPolicy & SafetyPayments and withdrawalsHandling ordersManaging Gigs   1. Is my personal information safe?We care about your privacy. You can read our Privacy Policy here for more information on your personal information.The Privacy Policy is part of our Terms of Service. 2. How do I change/reset my password?You can change or reset your password via your Security settings.   Official Fiverr Username editorial_video 1. Will you ever ask for my password?Customer Support will never ask you for your password, but they may ask you for your security question's answer in specific situations (e.g., to verify account ownership).This is always managed through an official Support request. Here is what you need to know about your password and security: For additional help with policy & safety, please contact Customer Support.     3. Can I partially cancel/refund an order?Orders can not be partially canceled or refunded at this time.Once an order is created and there is a need to partially cancel/refund your buyer, we recommend that you ask your buyer to place a new order for the newly agreed-upon price. Once that new order is created and then marked as Complete, you can cancel the original order.   4. Can I accept a tip?You can accept a tip, however, it's advised not to ask for one.Do your best as a seller—ultimately it's up to the buyer whether to leave a tip or not. Learn more with our Communication Webinar.   1. What are Packages?Packages are a structure for selling services on Fiverr that allow you to combine your basic Gig with built-in revisions and Extras to create an offer that gives Buyers exactly what they want. ammyy.com Note: General websites (such as google.com), or websites that provide free tools (such as wordcount.com or colorpicker.com) are allowed. If you use a URL that is not listed above, your Gig may be denied.Repetitive violations may also cause an account to be restricted. \n",
      "                  \n",
      "                    We're here to help\n",
      "                  \n",
      "                 \n",
      "                Popular searches\n",
      "               \n",
      "                      <%= block.description %>\n",
      "                     \n",
      "                        <%= block.description %>\n",
      "                       \n",
      "                  \n",
      "                    We're here to help\n",
      "                  \n",
      "                \n"
     ]
    }
   ],
   "source": [
    "print(faqs_unstructured) "
   ]
  },
  {
   "cell_type": "code",
   "execution_count": 5,
   "metadata": {},
   "outputs": [],
   "source": [
    "faqs_unstructured = \"1. Is my personal information safe?We care about your privacy. You can read our Privacy Policy here for more information on your personal information.The Privacy Policy is part of our Terms of Service. 2. How do I change/reset my password?You can change or reset your password via your Security settings.   Official Fiverr Username editorial_video 1. Will you ever ask for my password?Customer Support will never ask you for your password, but they may ask you for your security question's answer in specific situations (e.g., to verify account ownership).This is always managed through an official Support request. Here is what you need to know about your password and security: For additional help with policy & safety, please contact Customer Support.     3. Can I partially cancel/refund an order?Orders can not be partially canceled or refunded at this time.Once an order is created and there is a need to partially cancel/refund your buyer, we recommend that you ask your buyer to place a new order for the newly agreed-upon price. Once that new order is created and then marked as Complete, you can cancel the original order.   4. Can I accept a tip?You can accept a tip, however, it's advised not to ask for one.Do your best as a seller—ultimately it's up to the buyer whether to leave a tip or not. Learn more with our Communication Webinar.   1. What are Packages?Packages are a structure for selling services on Fiverr that allow you to combine your basic Gig with built-in revisions and Extras to create an offer that gives Buyers exactly what they want. ammyy.com Note: General websites (such as google.com), or websites that provide free tools (such as wordcount.com or colorpicker.com) are allowed. If you use a URL that is not listed above, your Gig may be denied.Repetitive violations may also cause an account to be restricted. \""
   ]
  },
  {
   "cell_type": "code",
   "execution_count": 6,
   "metadata": {},
   "outputs": [
    {
     "name": "stdout",
     "output_type": "stream",
     "text": [
      "Q: 1. Is my personal information safe?\n",
      "A: We care about your privacy. You can read our Privacy Policy here for more information on your personal information.The Privacy Policy is part of our Terms of Service.\n",
      "----------------------------------------\n",
      "Q: 2. How do I change/reset my password?\n",
      "A: You can change or reset your password via your Security settings.   Official Fiverr Username editorial_video\n",
      "----------------------------------------\n",
      "Q: 1. Will you ever ask for my password?\n",
      "A: Customer Support will never ask you for your password, but they may ask you for your security question's answer in specific situations (e.g., to verify account ownership).This is always managed through an official Support request. Here is what you need to know about your password and security: For additional help with policy & safety, please contact Customer Support.\n",
      "----------------------------------------\n",
      "Q: 3. Can I partially cancel/refund an order?\n",
      "A: Orders can not be partially canceled or refunded at this time.Once an order is created and there is a need to partially cancel/refund your buyer, we recommend that you ask your buyer to place a new order for the newly agreed-upon price. Once that new order is created and then marked as Complete, you can cancel the original order.\n",
      "----------------------------------------\n",
      "Q: 4. Can I accept a tip?\n",
      "A: You can accept a tip, however, it's advised not to ask for one.Do your best as a seller—ultimately it's up to the buyer whether to leave a tip or not. Learn more with our Communication Webinar.\n",
      "----------------------------------------\n",
      "Q: 1. What are Packages?\n",
      "A: Packages are a structure for selling services on Fiverr that allow you to combine your basic Gig with built-in revisions and Extras to create an offer that gives Buyers exactly what they want. ammyy.com Note: General websites (such as google.com), or websites that provide free tools (such as wordcount.com or colorpicker.com) are allowed. If you use a URL that is not listed above, your Gig may be denied.Repetitive violations may also cause an account to be restricted.\n",
      "----------------------------------------\n"
     ]
    }
   ],
   "source": [
    "import re\n",
    "\n",
    "def extract_faqs(faq_text):\n",
    "    # Split using pattern of numbers followed by a dot\n",
    "    parts = re.split(r'(\\d+\\.)', faq_text)[1:]\n",
    "\n",
    "    # Group by twos (as we've split by the numbers, we want to rejoin them)\n",
    "    grouped_parts = [\"\".join(parts[i:i+2]) for i in range(0, len(parts), 2)]\n",
    "\n",
    "    faqs = []\n",
    "\n",
    "    for part in grouped_parts:\n",
    "        # Splitting by the first question mark to separate the question and the answer\n",
    "        q, a = part.split(\"?\", 1)  \n",
    "        faqs.append({\n",
    "            'question': q.strip() + '?',\n",
    "            'answer': a.strip()\n",
    "        })\n",
    "\n",
    "    return faqs\n",
    "\n",
    "faqs = extract_faqs(faqs_unstructured)\n",
    "\n",
    "for faq in faqs:\n",
    "    print(\"Q:\", faq['question'])\n",
    "    print(\"A:\", faq['answer'])\n",
    "    print(\"-\" * 40)\n"
   ]
  },
  {
   "cell_type": "code",
   "execution_count": 7,
   "metadata": {},
   "outputs": [
    {
     "name": "stdout",
     "output_type": "stream",
     "text": [
      "[{'question': '1. Is my personal information safe?', 'answer': 'We care about your privacy. You can read our Privacy Policy here for more information on your personal information.The Privacy Policy is part of our Terms of Service.'}, {'question': '2. How do I change/reset my password?', 'answer': 'You can change or reset your password via your Security settings.   Official Fiverr Username editorial_video'}, {'question': '1. Will you ever ask for my password?', 'answer': \"Customer Support will never ask you for your password, but they may ask you for your security question's answer in specific situations (e.g., to verify account ownership).This is always managed through an official Support request. Here is what you need to know about your password and security: For additional help with policy & safety, please contact Customer Support.\"}, {'question': '3. Can I partially cancel/refund an order?', 'answer': 'Orders can not be partially canceled or refunded at this time.Once an order is created and there is a need to partially cancel/refund your buyer, we recommend that you ask your buyer to place a new order for the newly agreed-upon price. Once that new order is created and then marked as Complete, you can cancel the original order.'}, {'question': '4. Can I accept a tip?', 'answer': \"You can accept a tip, however, it's advised not to ask for one.Do your best as a seller—ultimately it's up to the buyer whether to leave a tip or not. Learn more with our Communication Webinar.\"}, {'question': '1. What are Packages?', 'answer': 'Packages are a structure for selling services on Fiverr that allow you to combine your basic Gig with built-in revisions and Extras to create an offer that gives Buyers exactly what they want. ammyy.com Note: General websites (such as google.com), or websites that provide free tools (such as wordcount.com or colorpicker.com) are allowed. If you use a URL that is not listed above, your Gig may be denied.Repetitive violations may also cause an account to be restricted.'}]\n"
     ]
    }
   ],
   "source": [
    "print(faqs)"
   ]
  },
  {
   "cell_type": "code",
   "execution_count": 8,
   "metadata": {},
   "outputs": [
    {
     "name": "stdout",
     "output_type": "stream",
     "text": [
      "via your Security settings\n"
     ]
    }
   ],
   "source": [
    "#Step 4: running the model\n",
    "\n",
    "def get_answer_from_faq(user_question, structured_faqs):\n",
    "    relevant_contexts = []\n",
    "    \n",
    "    for faq in structured_faqs:\n",
    "        if any(word.lower() in (faq['question'] + faq['answer']).lower() for word in user_question.split()):\n",
    "            relevant_contexts.append(faq['answer'])\n",
    "    \n",
    "    combined_context = ' '.join(relevant_contexts)\n",
    "    \n",
    "    # Handle empty context:\n",
    "    if not combined_context.strip():\n",
    "        # Option a:\n",
    "        return {'answer': \"Sorry, I couldn't find an answer to that.\"}\n",
    "\n",
    "        # Option b (uncomment to use):\n",
    "        # combined_context = ' '.join([faq['answer'] for faq in structured_faqs])\n",
    "    \n",
    "    return qa_pipeline({\n",
    "        'context': combined_context,\n",
    "        'question': user_question\n",
    "    })\n",
    "\n",
    "# Example usage:\n",
    "question = \"How do I reset my password?\"\n",
    "answer = get_answer_from_faq(question, faqs)\n",
    "print(answer['answer'])"
   ]
  },
  {
   "cell_type": "code",
   "execution_count": null,
   "metadata": {},
   "outputs": [],
   "source": [
    "# #Step 4: Running the model\n",
    "# def get_answer_from_faq(question, faq_content):\n",
    "#     return qa_pipeline({\n",
    "#         'context': faq_content,\n",
    "#         'question': question\n",
    "#     })"
   ]
  },
  {
   "cell_type": "code",
   "execution_count": 9,
   "metadata": {},
   "outputs": [
    {
     "name": "stdout",
     "output_type": "stream",
     "text": [
      "Communication Webinar\n"
     ]
    }
   ],
   "source": [
    "#Testing\n",
    "question = \"How can I contact your support team?\"\n",
    "answer = get_answer_from_faq(question, faqs)\n",
    "print(answer['answer'])"
   ]
  },
  {
   "cell_type": "code",
   "execution_count": 10,
   "metadata": {},
   "outputs": [
    {
     "name": "stdout",
     "output_type": "stream",
     "text": [
      "If you use a URL that is not listed above\n"
     ]
    }
   ],
   "source": [
    "#Testing\n",
    "question = \"Can I cancel my withdrawal?\"\n",
    "answer = get_answer_from_faq(question, faqs)\n",
    "print(answer['answer'])"
   ]
  },
  {
   "cell_type": "code",
   "execution_count": 11,
   "metadata": {},
   "outputs": [
    {
     "name": "stdout",
     "output_type": "stream",
     "text": [
      "Learn more with our Communication Webinar\n"
     ]
    }
   ],
   "source": [
    "#Testing\n",
    "question = \"Do I have to pay taxes from my Fiverr earnings?\"\n",
    "answer = get_answer_from_faq(question, faqs)\n",
    "print(answer['answer'])"
   ]
  },
  {
   "cell_type": "code",
   "execution_count": 12,
   "metadata": {},
   "outputs": [
    {
     "name": "stdout",
     "output_type": "stream",
     "text": [
      "combine your basic Gig with built-in revisions and Extras\n"
     ]
    }
   ],
   "source": [
    "#Testing\n",
    "question = \"How can I increase sales?\"\n",
    "answer = get_answer_from_faq(question, faqs)\n",
    "print(answer['answer'])"
   ]
  },
  {
   "cell_type": "code",
   "execution_count": 13,
   "metadata": {},
   "outputs": [
    {
     "name": "stdout",
     "output_type": "stream",
     "text": [
      "Learn more with our Communication Webinar\n"
     ]
    }
   ],
   "source": [
    "#Testing\n",
    "question = \"Is my personal information safe?\"\n",
    "answer = get_answer_from_faq(question, faqs)\n",
    "print(answer['answer'])"
   ]
  }
 ],
 "metadata": {
  "kernelspec": {
   "display_name": "Python 3",
   "language": "python",
   "name": "python3"
  },
  "language_info": {
   "codemirror_mode": {
    "name": "ipython",
    "version": 3
   },
   "file_extension": ".py",
   "mimetype": "text/x-python",
   "name": "python",
   "nbconvert_exporter": "python",
   "pygments_lexer": "ipython3",
   "version": "3.7.3"
  }
 },
 "nbformat": 4,
 "nbformat_minor": 2
}
